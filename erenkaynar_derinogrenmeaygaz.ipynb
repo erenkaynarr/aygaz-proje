{
  "nbformat": 4,
  "nbformat_minor": 0,
  "metadata": {
    "colab": {
      "provenance": [],
      "authorship_tag": "ABX9TyPeJmU0WlCL6zFV5doIZsLf",
      "include_colab_link": true
    },
    "kernelspec": {
      "name": "python3",
      "display_name": "Python 3"
    },
    "language_info": {
      "name": "python"
    }
  },
  "cells": [
    {
      "cell_type": "markdown",
      "metadata": {
        "id": "view-in-github",
        "colab_type": "text"
      },
      "source": [
        "<a href=\"https://colab.research.google.com/github/erenkaynarr/aygaz-proje/blob/main/erenkaynar_derinogrenmeaygaz.ipynb\" target=\"_parent\"><img src=\"https://colab.research.google.com/assets/colab-badge.svg\" alt=\"Open In Colab\"/></a>"
      ]
    },
    {
      "cell_type": "code",
      "execution_count": null,
      "metadata": {
        "id": "7zCYFyy6D9__"
      },
      "outputs": [],
      "source": [
        "from keras.layers import Dense,Dropout,Input,MaxPooling2D,ZeroPadding2D,Conv2D,Flatten\n",
        "from keras.models import Sequential\n",
        "from keras.losses import categorical_crossentropy\n",
        "from keras.optimizers import Adam,SGD\n",
        "from keras.preprocessing.image import img_to_array,load_img,ImageDataGenerator\n",
        "from keras.utils import to_categorical\n",
        "\n",
        "import numpy as np\n",
        "import pandas as pd\n",
        "import matplotlib.pyplot as plt\n",
        "pd.options.display.max_colwidth=150"
      ]
    },
    {
      "cell_type": "code",
      "source": [],
      "metadata": {
        "id": "jbHqE1hPE_L5"
      },
      "execution_count": null,
      "outputs": []
    }
  ]
}